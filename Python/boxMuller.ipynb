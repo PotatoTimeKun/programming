{
 "cells": [
  {
   "cell_type": "markdown",
   "id": "fefb8c3b",
   "metadata": {},
   "source": [
    "# ボックスミュラー法"
   ]
  },
  {
   "cell_type": "markdown",
   "id": "6e0187b3",
   "metadata": {},
   "source": [
    "## 概要"
   ]
  },
  {
   "cell_type": "markdown",
   "id": "eaa7e1e0",
   "metadata": {},
   "source": [
    "一様乱数から正規分布に従う乱数を取得"
   ]
  },
  {
   "cell_type": "markdown",
   "id": "9b2662f5",
   "metadata": {},
   "source": [
    "一様な乱数$$a,b\\in[0,1]$$から、以下の2つの乱数を得る\n",
    "$$Z_1=\\sqrt{-2\\log(a)}\\cos(2\\pi b)$$\n",
    "$$Z_2=\\sqrt{-2\\log(a)}\\sin(2\\pi b)$$\n",
    "これは平均0,標準偏差1の正規分布に従う"
   ]
  },
  {
   "cell_type": "markdown",
   "id": "72c6352b",
   "metadata": {},
   "source": [
    "## 実装"
   ]
  },
  {
   "cell_type": "code",
   "execution_count": 5,
   "id": "1fc3fdbc",
   "metadata": {},
   "outputs": [],
   "source": [
    "from matplotlib import pyplot as plt\n",
    "import math\n",
    "from random import random"
   ]
  },
  {
   "cell_type": "code",
   "execution_count": 27,
   "id": "a52f41ce",
   "metadata": {},
   "outputs": [],
   "source": [
    "data=[]\n",
    "for i in range(20000):\n",
    "    a,b=random(),random()\n",
    "    Z1,Z2=(-2*math.log(a))**0.5*math.cos(2*math.pi*b),(-2*math.log(a))**0.5*math.sin(2*math.pi*b)\n",
    "    data.append(Z1)\n",
    "    data.append(Z2)"
   ]
  },
  {
   "cell_type": "code",
   "execution_count": 28,
   "id": "3bb4b0b9",
   "metadata": {},
   "outputs": [],
   "source": [
    "x,y=[],[]\n",
    "for i in range(-150,150):\n",
    "    x.append(i/50.)\n",
    "    y.append(0)\n",
    "    for j in data:\n",
    "        if(i/50.-0.01<j<=i/50.+0.01):\n",
    "            y[-1]+=1"
   ]
  },
  {
   "cell_type": "code",
   "execution_count": 30,
   "id": "f4e6fb5e",
   "metadata": {
    "scrolled": false
   },
   "outputs": [
    {
     "data": {
      "image/png": "[encoded data removed]",
      "text/plain": [
       "<Figure size 432x288 with 1 Axes>"
      ]
     },
     "metadata": {
      "needs_background": "light"
     },
     "output_type": "display_data"
    }
   ],
   "source": [
    "plt.scatter(x,y)\n",
    "plt.show()"
   ]
  }
 ],
 "metadata": {
  "kernelspec": {
   "display_name": "Python 3 (ipykernel)",
   "language": "python",
   "name": "python3"
  },
  "language_info": {
   "codemirror_mode": {
    "name": "ipython",
    "version": 3
   },
   "file_extension": ".py",
   "mimetype": "text/x-python",
   "name": "python",
   "nbconvert_exporter": "python",
   "pygments_lexer": "ipython3",
   "version": "3.9.7"
  }
 },
 "nbformat": 4,
 "nbformat_minor": 5
}
